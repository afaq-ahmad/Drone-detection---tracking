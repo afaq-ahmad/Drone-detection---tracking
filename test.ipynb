{
 "cells": [
  {
   "cell_type": "code",
   "execution_count": 2,
   "metadata": {},
   "outputs": [],
   "source": [
    "import numpy as np"
   ]
  },
  {
   "cell_type": "code",
   "execution_count": 5,
   "metadata": {},
   "outputs": [],
   "source": [
    "detections=[(b'Drone', 0.9821652173995972, (270.30621337890625, 105.99270629882812, 126.46693420410156, 82.1159439086914)),(b'Drone', 0.9821652173995972, (270.30621337890625, 105.99270629882812, 126.46693420410156, 82.1159439086914))]"
   ]
  },
  {
   "cell_type": "code",
   "execution_count": 44,
   "metadata": {},
   "outputs": [],
   "source": [
    "detections=[(b'Drone', 0.9821652173995972, (270.30621337890625, 105.99270629882812, 126.46693420410156, 82.1159439086914))]"
   ]
  },
  {
   "cell_type": "code",
   "execution_count": 45,
   "metadata": {},
   "outputs": [
    {
     "data": {
      "text/plain": [
       "array([[b'Drone', 0.9821652173995972,\n",
       "        (270.30621337890625, 105.99270629882812, 126.46693420410156, 82.1159439086914)]],\n",
       "      dtype=object)"
      ]
     },
     "execution_count": 45,
     "metadata": {},
     "output_type": "execute_result"
    }
   ],
   "source": [
    "    detections=np.array(detections)\n",
    "    Boxes=np.array(detections[:,2].tolist(),dtype=int).tolist()\n",
    "    Classes_output=[[cls.decode()] for cls in detections[:,0]]\n",
    "    print(Boxes,Classes_output)"
   ]
  }
 ],
 "metadata": {
  "kernelspec": {
   "display_name": "Python 3",
   "language": "python",
   "name": "python3"
  },
  "language_info": {
   "codemirror_mode": {
    "name": "ipython",
    "version": 3
   },
   "file_extension": ".py",
   "mimetype": "text/x-python",
   "name": "python",
   "nbconvert_exporter": "python",
   "pygments_lexer": "ipython3",
   "version": "3.7.7"
  }
 },
 "nbformat": 4,
 "nbformat_minor": 4
}
